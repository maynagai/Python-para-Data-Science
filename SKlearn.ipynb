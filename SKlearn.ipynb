{
  "nbformat": 4,
  "nbformat_minor": 0,
  "metadata": {
    "colab": {
      "provenance": [],
      "authorship_tag": "ABX9TyPmbzGLFDSGdQR3OoYsXrNE",
      "include_colab_link": true
    },
    "kernelspec": {
      "name": "python3",
      "display_name": "Python 3"
    },
    "language_info": {
      "name": "python"
    }
  },
  "cells": [
    {
      "cell_type": "markdown",
      "metadata": {
        "id": "view-in-github",
        "colab_type": "text"
      },
      "source": [
        "<a href=\"https://colab.research.google.com/github/maynagai/Python-para-Data-Science/blob/main/SKlearn.ipynb\" target=\"_parent\"><img src=\"https://colab.research.google.com/assets/colab-badge.svg\" alt=\"Open In Colab\"/></a>"
      ]
    },
    {
      "cell_type": "markdown",
      "source": [
        "A ideia é diferenciar dois animais com características diferentes: um porco e um cachorro\n",
        "\n",
        "**Caracteristicas:**\n",
        "\n",
        "pelo longo?\n",
        "\n",
        "perna curta?\n",
        "\n",
        "faz auau?\n",
        "\n",
        "features (1 sim, 0 não)\n"
      ],
      "metadata": {
        "id": "julEntYX7QeP"
      }
    },
    {
      "cell_type": "code",
      "execution_count": 26,
      "metadata": {
        "colab": {
          "base_uri": "https://localhost:8080/"
        },
        "id": "kGOWLyco1m6z",
        "outputId": "d2dc9f7c-ad2e-42a9-a4cb-79427ba8aa59"
      },
      "outputs": [
        {
          "output_type": "stream",
          "name": "stdout",
          "text": [
            "taxa de acc:  66.66666666666666\n",
            "taxa de acc:  66.66666666666666\n"
          ]
        }
      ],
      "source": [
        "# Tipos de Porco\n",
        "porco1 = [0, 1, 0]\n",
        "porco2 = [0, 1, 1]\n",
        "porco3 = [1, 1, 0]\n",
        "\n",
        "#Tipos de cachorros\n",
        "cachorro1 = [0, 1, 1]\n",
        "cachorro2 = [1, 0, 1]\n",
        "cachorro3 = [1, 1, 1]\n",
        "\n",
        "# 0= cachorro 1= porco\n",
        "dados = [porco1, porco2, porco3, cachorro1, cachorro2, cachorro3]\n",
        "classes = [1,1,1,0,0,0]\n",
        "\n",
        "from sklearn.svm import LinearSVC\n",
        "\n",
        "model = LinearSVC()\n",
        "model.fit(dados, classes)\n",
        "\n",
        "misterio1=[1,1,1] #cachorro\n",
        "misterio2=[1,1,0] #porco\n",
        "misterio3=[0,1,1] # porco\n",
        "\n",
        "testes=[misterio1,misterio2,misterio3]\n",
        "resultado = model.predict(testes)\n",
        "testesclasses=[0,1,1]\n",
        "correto = (resultado == testesclasses).sum()\n",
        "\n",
        "total= len(testes)\n",
        "acc= (correto/total)*100\n",
        "print(\"taxa de acc: \", acc)\n",
        "\n",
        "from sklearn.metrics import accuracy_score\n",
        "\n",
        "acerto = accuracy_score(testesclasses, resultado)\n",
        "print(\"taxa com acc score: \", acerto*100)"
      ]
    },
    {
      "cell_type": "code",
      "source": [
        "\n"
      ],
      "metadata": {
        "id": "yCQTi2jG9Mpf"
      },
      "execution_count": null,
      "outputs": []
    }
  ]
}